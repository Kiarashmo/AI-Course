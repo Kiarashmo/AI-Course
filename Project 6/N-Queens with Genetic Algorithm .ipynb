{
 "cells": [
  {
   "cell_type": "markdown",
   "id": "da6b3ca3",
   "metadata": {},
   "source": [
    "# N-Queen Problem using Evolutionary Algorithm\n",
    "## Kiarash Mokhtari - 9830032"
   ]
  },
  {
   "cell_type": "code",
   "execution_count": 70,
   "id": "e3582d67",
   "metadata": {},
   "outputs": [],
   "source": [
    "import random\n",
    "import time"
   ]
  },
  {
   "cell_type": "markdown",
   "id": "24c0ca29",
   "metadata": {},
   "source": [
    "### 1. First we define Initialize Population function which randomly generates individuals."
   ]
  },
  {
   "cell_type": "code",
   "execution_count": 71,
   "id": "af533510",
   "metadata": {},
   "outputs": [],
   "source": [
    "def initialize_population(population_size: int, board_size: int) -> list:\n",
    "    population = []\n",
    "    for _ in range(population_size):\n",
    "        individual = random.sample(range(board_size), board_size)\n",
    "        population.append(individual)\n",
    "    \n",
    "    return population"
   ]
  },
  {
   "cell_type": "code",
   "execution_count": 72,
   "id": "22097c25",
   "metadata": {},
   "outputs": [
    {
     "name": "stdout",
     "output_type": "stream",
     "text": [
      "[2, 0, 4, 5, 7, 6, 3, 1]\n",
      "[6, 5, 4, 7, 0, 1, 3, 2]\n",
      "[5, 4, 2, 7, 0, 3, 6, 1]\n",
      "[0, 3, 5, 4, 6, 1, 7, 2]\n",
      "[4, 3, 2, 6, 0, 1, 5, 7]\n",
      "[4, 6, 5, 3, 0, 2, 1, 7]\n",
      "[5, 2, 0, 4, 1, 3, 6, 7]\n",
      "[1, 5, 4, 6, 2, 7, 0, 3]\n",
      "[1, 7, 5, 0, 3, 6, 2, 4]\n",
      "[0, 3, 4, 6, 7, 5, 1, 2]\n"
     ]
    }
   ],
   "source": [
    "# Inorder to test the function we can run below code:\n",
    "def print_matrix(matrix):\n",
    "    for row in matrix:\n",
    "        print(row)\n",
    "        \n",
    "population_size = 10\n",
    "board_size = 8\n",
    "\n",
    "sample_population = initialize_population(population_size, board_size)\n",
    "print_matrix(sample_population)"
   ]
  },
  {
   "cell_type": "markdown",
   "id": "098b4548",
   "metadata": {},
   "source": [
    "### 2. we define Evaluate Fitness fucntion which evaluates the fitness of each individual in the population."
   ]
  },
  {
   "cell_type": "code",
   "execution_count": 86,
   "id": "bdbcba27",
   "metadata": {},
   "outputs": [],
   "source": [
    "def evaluate_fitness(individual):\n",
    "    conflicts = 0\n",
    "    size = len(individual)\n",
    "\n",
    "    for i in range(size):\n",
    "        for j in range(i+1, size):\n",
    "            if individual[i] == individual[j] or abs(individual[i] - individual[j]) == abs(i - j):\n",
    "                conflicts += 1\n",
    "\n",
    "    fitness = 1 / (conflicts + 1)\n",
    "\n",
    "    return fitness"
   ]
  },
  {
   "cell_type": "code",
   "execution_count": 87,
   "id": "4475ffed",
   "metadata": {},
   "outputs": [
    {
     "name": "stdout",
     "output_type": "stream",
     "text": [
      "0.16666666666666666\n",
      "0.1\n",
      "0.2\n",
      "0.25\n",
      "0.1111111111111111\n",
      "0.1111111111111111\n",
      "0.2\n",
      "0.125\n",
      "0.16666666666666666\n",
      "0.16666666666666666\n"
     ]
    }
   ],
   "source": [
    "# Inorder to test the function we can run below code:\n",
    "for individual in sample_population:\n",
    "    print(evaluate_fitness(individual))"
   ]
  },
  {
   "attachments": {},
   "cell_type": "markdown",
   "id": "aa3cbc88",
   "metadata": {},
   "source": [
    "### 3. we define Selection fucntion which selects individuals from the population based on their fitness values. .\n",
    "#### here I implement 3 approaches and then I will compare them with each other"
   ]
  },
  {
   "cell_type": "code",
   "execution_count": 88,
   "id": "9f8ce204",
   "metadata": {},
   "outputs": [],
   "source": [
    "# 1 approach\n",
    "def tournament_selection(population, tournament_size):\n",
    "    selected = []\n",
    "    \n",
    "    for _ in range(len(population)):\n",
    "        sub_population = random.sample(population, tournament_size)\n",
    "        winner = max(sub_population, key=evaluate_fitness)\n",
    "        selected.append(winner)\n",
    "    \n",
    "    return selected"
   ]
  },
  {
   "cell_type": "code",
   "execution_count": 89,
   "id": "da72ae65",
   "metadata": {},
   "outputs": [],
   "source": [
    "# 2 approach\n",
    "def roulette_wheel_selection(population):\n",
    "    total_fitness = 0\n",
    "    selection_probs = []\n",
    "    selected = []\n",
    "\n",
    "    for individual in population:\n",
    "        total_fitness += evaluate_fitness(individual)\n",
    "    \n",
    "    for individual in population:\n",
    "        selection_probs.append(evaluate_fitness(individual) / total_fitness)\n",
    "\n",
    "    for _ in range(len(population)):\n",
    "        cumulative_prob = 0.0\n",
    "        r = random.random()\n",
    "\n",
    "        for i, individual in enumerate(population):\n",
    "            cumulative_prob += selection_probs[i]\n",
    "            if r <= cumulative_prob:\n",
    "                selected.append(individual)\n",
    "                break\n",
    "\n",
    "    return selected"
   ]
  },
  {
   "cell_type": "code",
   "execution_count": 90,
   "id": "470e80da",
   "metadata": {},
   "outputs": [],
   "source": [
    "# 3 approach\n",
    "def rank_based_selection(population):\n",
    "    selection_probs = []\n",
    "    population_size = len(population)\n",
    "    ranks = list(range(1, population_size + 1))\n",
    "    total_ranks = sum(ranks)\n",
    "    \n",
    "    for rank in ranks:\n",
    "        selection_probs.append(rank / total_ranks)\n",
    "\n",
    "    selected = []\n",
    "    for _ in range(population_size):\n",
    "        r = random.random()\n",
    "        cumulative_prob = 0.0\n",
    "\n",
    "        for i, individual in enumerate(population):\n",
    "            cumulative_prob += selection_probs[i]\n",
    "            if r <= cumulative_prob:\n",
    "                selected.append(individual)\n",
    "                break\n",
    "\n",
    "    return selected"
   ]
  },
  {
   "cell_type": "markdown",
   "id": "604c1de4",
   "metadata": {},
   "source": [
    "### 4. we define Crossover fucntion which performs crossover or recombination between selected individuals to create offspring.\n"
   ]
  },
  {
   "cell_type": "code",
   "execution_count": 91,
   "id": "9a24de54",
   "metadata": {},
   "outputs": [],
   "source": [
    "def crossover(parent1, parent2):\n",
    "    size = len(parent1)\n",
    "    crossover_point = random.randint(1, size - 1)\n",
    "\n",
    "    child1 = parent1[:crossover_point] + parent2[crossover_point:]\n",
    "    child2 = parent2[:crossover_point] + parent1[crossover_point:]\n",
    "\n",
    "    return crossover_point, child1, child2"
   ]
  },
  {
   "cell_type": "code",
   "execution_count": 92,
   "id": "73726708",
   "metadata": {},
   "outputs": [
    {
     "name": "stdout",
     "output_type": "stream",
     "text": [
      "Children before Crossover:\n",
      "[0, 3, 6, 4, 7, 1, 7, 5]\n",
      "[4, 1, 3, 6, 2, 0, 5, 2]\n",
      "========================================================\n",
      "Children after Crossover:\n",
      "[0, 3, 3, 6, 2, 0, 7, 5]\n",
      "[4, 1, 6, 4, 7, 1, 5, 2]\n",
      "Crossover Point:  2\n"
     ]
    }
   ],
   "source": [
    "# Inorder to test the function we can run below code:\n",
    "parent1 = [0, 3, 6, 4, 7, 1, 5, 2]\n",
    "parent2 = [4, 1, 3, 6, 2, 0, 7, 5]\n",
    "\n",
    "print(\"Children before Crossover:\")\n",
    "print(child1)\n",
    "print(child2)\n",
    "print(\"========================================================\")\n",
    "\n",
    "crossover_point, child1, child2 = crossover(parent1, parent2)\n",
    "print(\"Children after Crossover:\")\n",
    "print(child1)\n",
    "print(child2)\n",
    "print(\"Crossover Point: \", crossover_point)"
   ]
  },
  {
   "cell_type": "markdown",
   "id": "f7cec85c",
   "metadata": {},
   "source": [
    "### 5. we define Mutation fucntion which adds diversity to the population and helps explore different regions of the solution space."
   ]
  },
  {
   "cell_type": "code",
   "execution_count": 93,
   "id": "5eb2036c",
   "metadata": {},
   "outputs": [],
   "source": [
    "def mutation(individual, mutation_rate):\n",
    "    size = len(individual)\n",
    "    mutated_individual = individual.copy()\n",
    "\n",
    "    for i in range(size):\n",
    "        if random.random() < mutation_rate:\n",
    "            new_position = random.randint(0, size - 1)\n",
    "            mutated_individual[i] = new_position\n",
    "\n",
    "    return mutated_individual"
   ]
  },
  {
   "cell_type": "code",
   "execution_count": 94,
   "id": "8bd47ddb",
   "metadata": {},
   "outputs": [
    {
     "name": "stdout",
     "output_type": "stream",
     "text": [
      "[0, 3, 6, 4, 7, 1, 3, 2]\n"
     ]
    }
   ],
   "source": [
    "# Inorder to test the function we can run below code:\n",
    "individual = [0, 3, 6, 4, 7, 1, 5, 2]\n",
    "mutation_rate = 0.1\n",
    "\n",
    "mutated_individual = mutation(individual, mutation_rate)\n",
    "print(mutated_individual)"
   ]
  },
  {
   "cell_type": "markdown",
   "id": "16a814db",
   "metadata": {},
   "source": [
    "### 6. we define Replacement fucntion which selects individuals from the parent population and the offspring population to form the next generation."
   ]
  },
  {
   "cell_type": "code",
   "execution_count": 95,
   "id": "3c620924",
   "metadata": {},
   "outputs": [],
   "source": [
    "def replacement(parent_population, offspring_population, population_size):\n",
    "    combined_population = parent_population + offspring_population\n",
    "\n",
    "    combined_population.sort(key=evaluate_fitness, reverse=True)\n",
    "\n",
    "    next_generation = combined_population[:population_size]\n",
    "\n",
    "    return next_generation"
   ]
  },
  {
   "cell_type": "markdown",
   "id": "b75aaf25",
   "metadata": {},
   "source": [
    "### 7. we define Termination fucntion which determines when to stop the algorithm."
   ]
  },
  {
   "cell_type": "code",
   "execution_count": 96,
   "id": "8315ce90",
   "metadata": {},
   "outputs": [],
   "source": [
    "def termination_condition(population, max_fitness):\n",
    "    for individual in population:\n",
    "        if evaluate_fitness(individual) >= max_fitness:\n",
    "            return True\n",
    "    return False"
   ]
  },
  {
   "cell_type": "markdown",
   "id": "68600578",
   "metadata": {},
   "source": [
    "### 8. Main function tournament_selection function"
   ]
  },
  {
   "cell_type": "code",
   "execution_count": 104,
   "id": "09a6eda3",
   "metadata": {},
   "outputs": [],
   "source": [
    "def solve_n_queen(population_size, board_size, max_generations, mutation_rate):\n",
    "    population = initialize_population(population_size, board_size)\n",
    "    current_generation = 0\n",
    "\n",
    "    while not termination_condition(population, 1.0) and current_generation < max_generations:\n",
    "        parent_population = tournament_selection(population, 3)\n",
    "        offspring_population = []\n",
    "\n",
    "        while len(offspring_population) < population_size:\n",
    "            parent1, parent2 = random.sample(parent_population, 2)\n",
    "            crossover_point, child1, child2 = crossover(parent1, parent2)\n",
    "            mutated_child1 = mutation(child1, mutation_rate)\n",
    "            mutated_child2 = mutation(child2, mutation_rate)\n",
    "            offspring_population.extend([mutated_child1, mutated_child2])\n",
    "\n",
    "        population = replacement(parent_population, offspring_population, population_size)\n",
    "        current_generation += 1\n",
    "\n",
    "    best_individual = max(population, key=evaluate_fitness)\n",
    "    best_fitness = evaluate_fitness(best_individual)\n",
    "    return best_individual, best_fitness"
   ]
  },
  {
   "cell_type": "code",
   "execution_count": 105,
   "id": "e23c984c",
   "metadata": {},
   "outputs": [
    {
     "name": "stdout",
     "output_type": "stream",
     "text": [
      "8-Queen Problem:\n",
      "Best Individual: [4, 1, 3, 6, 2, 7, 5, 0]\n",
      "- - - - Q - - -\n",
      "- Q - - - - - -\n",
      "- - - Q - - - -\n",
      "- - - - - - Q -\n",
      "- - Q - - - - -\n",
      "- - - - - - - Q\n",
      "- - - - - Q - -\n",
      "Q - - - - - - -\n",
      "Best Fitness: 1.0\n",
      "Execution Time: 0.10819506645202637 seconds\n",
      "\n",
      "\n",
      "16-Queen Problem:\n",
      "Best Individual: [2, 15, 13, 3, 8, 4, 1, 6, 0, 14, 11, 9, 5, 7, 10, 12]\n",
      "- - Q - - - - - - - - - - - - -\n",
      "- - - - - - - - - - - - - - - Q\n",
      "- - - - - - - - - - - - - Q - -\n",
      "- - - Q - - - - - - - - - - - -\n",
      "- - - - - - - - Q - - - - - - -\n",
      "- - - - Q - - - - - - - - - - -\n",
      "- Q - - - - - - - - - - - - - -\n",
      "- - - - - - Q - - - - - - - - -\n",
      "Q - - - - - - - - - - - - - - -\n",
      "- - - - - - - - - - - - - - Q -\n",
      "- - - - - - - - - - - Q - - - -\n",
      "- - - - - - - - - Q - - - - - -\n",
      "- - - - - Q - - - - - - - - - -\n",
      "- - - - - - - Q - - - - - - - -\n",
      "- - - - - - - - - - Q - - - - -\n",
      "- - - - - - - - - - - - Q - - -\n",
      "Best Fitness: 0.3333333333333333\n",
      "Execution Time: 56.022629499435425 seconds\n"
     ]
    }
   ],
   "source": [
    "def print_individual(individual):\n",
    "    board_size = len(individual)\n",
    "\n",
    "    for row in range(board_size):\n",
    "        line = \"\"\n",
    "        for col in range(board_size):\n",
    "            if individual[row] == col:\n",
    "                line += \"Q \"\n",
    "            else:\n",
    "                line += \"- \"\n",
    "        print(line.strip())\n",
    "        \n",
    "# Example for 8-Queen\n",
    "population_size = 100\n",
    "board_size = 8\n",
    "max_generations = 1000\n",
    "mutation_rate = 0.1\n",
    "\n",
    "start_time = time.time()\n",
    "best_individual, best_fitness = solve_n_queen(population_size, board_size, max_generations, mutation_rate)\n",
    "end_time = time.time()\n",
    "\n",
    "execution_time = end_time - start_time\n",
    "\n",
    "print(\"8-Queen Problem:\")\n",
    "print(\"Best Individual:\", best_individual)\n",
    "print_individual(best_individual)\n",
    "print(\"Best Fitness:\", best_fitness)\n",
    "print(\"Execution Time:\", execution_time, \"seconds\")\n",
    "\n",
    "print(\"\\n\")\n",
    "\n",
    "# Example for 16-Queen\n",
    "population_size = 200\n",
    "board_size = 16\n",
    "max_generations = 2000\n",
    "mutation_rate = 0.05\n",
    "\n",
    "start_time = time.time()\n",
    "best_individual, best_fitness = solve_n_queen(population_size, board_size, max_generations, mutation_rate)\n",
    "end_time = time.time()\n",
    "\n",
    "execution_time = end_time - start_time\n",
    "\n",
    "print(\"16-Queen Problem:\")\n",
    "print(\"Best Individual:\", best_individual)\n",
    "print_individual(best_individual)\n",
    "print(\"Best Fitness:\", best_fitness)\n",
    "print(\"Execution Time:\", execution_time, \"seconds\")"
   ]
  },
  {
   "cell_type": "markdown",
   "id": "5b5d512c",
   "metadata": {},
   "source": [
    "### 9. Main function with roulette_wheel_selection"
   ]
  },
  {
   "cell_type": "code",
   "execution_count": 110,
   "id": "bbfa3c30",
   "metadata": {},
   "outputs": [],
   "source": [
    "def solve_n_queen(population_size, board_size, max_generations, mutation_rate):\n",
    "    population = initialize_population(population_size, board_size)\n",
    "    current_generation = 0\n",
    "\n",
    "    while not termination_condition(population, 1.0) and current_generation < max_generations:\n",
    "        parent_population = roulette_wheel_selection(population)\n",
    "        offspring_population = []\n",
    "\n",
    "        while len(offspring_population) < population_size:\n",
    "            parent1, parent2 = random.sample(parent_population, 2)\n",
    "            crossover_point, child1, child2 = crossover(parent1, parent2)\n",
    "            mutated_child1 = mutation(child1, mutation_rate)\n",
    "            mutated_child2 = mutation(child2, mutation_rate)\n",
    "            offspring_population.extend([mutated_child1, mutated_child2])\n",
    "\n",
    "        population = replacement(parent_population, offspring_population, population_size)\n",
    "        current_generation += 1\n",
    "\n",
    "    best_individual = max(population, key=evaluate_fitness)\n",
    "    best_fitness = evaluate_fitness(best_individual)\n",
    "    return best_individual, best_fitness"
   ]
  },
  {
   "cell_type": "code",
   "execution_count": 111,
   "id": "457c72eb",
   "metadata": {},
   "outputs": [
    {
     "name": "stdout",
     "output_type": "stream",
     "text": [
      "8-Queen Problem:\n",
      "Best Individual: [5, 3, 1, 7, 4, 6, 0, 2]\n",
      "- - - - - Q - -\n",
      "- - - Q - - - -\n",
      "- Q - - - - - -\n",
      "- - - - - - - Q\n",
      "- - - - Q - - -\n",
      "- - - - - - Q -\n",
      "Q - - - - - - -\n",
      "- - Q - - - - -\n",
      "Best Fitness: 1.0\n",
      "Execution Time: 0.004334926605224609 seconds\n",
      "\n",
      "\n",
      "16-Queen Problem:\n",
      "Best Individual: [13, 10, 7, 9, 14, 4, 0, 15, 12, 1, 5, 8, 2, 11, 3, 6]\n",
      "- - - - - - - - - - - - - Q - -\n",
      "- - - - - - - - - - Q - - - - -\n",
      "- - - - - - - Q - - - - - - - -\n",
      "- - - - - - - - - Q - - - - - -\n",
      "- - - - - - - - - - - - - - Q -\n",
      "- - - - Q - - - - - - - - - - -\n",
      "Q - - - - - - - - - - - - - - -\n",
      "- - - - - - - - - - - - - - - Q\n",
      "- - - - - - - - - - - - Q - - -\n",
      "- Q - - - - - - - - - - - - - -\n",
      "- - - - - Q - - - - - - - - - -\n",
      "- - - - - - - - Q - - - - - - -\n",
      "- - Q - - - - - - - - - - - - -\n",
      "- - - - - - - - - - - Q - - - -\n",
      "- - - Q - - - - - - - - - - - -\n",
      "- - - - - - Q - - - - - - - - -\n",
      "Best Fitness: 0.5\n",
      "Execution Time: 51.831241607666016 seconds\n"
     ]
    }
   ],
   "source": [
    "def print_individual(individual):\n",
    "    board_size = len(individual)\n",
    "\n",
    "    for row in range(board_size):\n",
    "        line = \"\"\n",
    "        for col in range(board_size):\n",
    "            if individual[row] == col:\n",
    "                line += \"Q \"\n",
    "            else:\n",
    "                line += \"- \"\n",
    "        print(line.strip())\n",
    "        \n",
    "# Example for 8-Queen\n",
    "population_size = 100\n",
    "board_size = 8\n",
    "max_generations = 1000\n",
    "mutation_rate = 0.1\n",
    "\n",
    "start_time = time.time()\n",
    "best_individual, best_fitness = solve_n_queen(population_size, board_size, max_generations, mutation_rate)\n",
    "end_time = time.time()\n",
    "\n",
    "execution_time = end_time - start_time\n",
    "\n",
    "print(\"8-Queen Problem:\")\n",
    "print(\"Best Individual:\", best_individual)\n",
    "print_individual(best_individual)\n",
    "print(\"Best Fitness:\", best_fitness)\n",
    "print(\"Execution Time:\", execution_time, \"seconds\")\n",
    "\n",
    "print(\"\\n\")\n",
    "\n",
    "# Example for 16-Queen\n",
    "population_size = 200\n",
    "board_size = 16\n",
    "max_generations = 2000\n",
    "mutation_rate = 0.05\n",
    "\n",
    "start_time = time.time()\n",
    "best_individual, best_fitness = solve_n_queen(population_size, board_size, max_generations, mutation_rate)\n",
    "end_time = time.time()\n",
    "\n",
    "execution_time = end_time - start_time\n",
    "\n",
    "print(\"16-Queen Problem:\")\n",
    "print(\"Best Individual:\", best_individual)\n",
    "print_individual(best_individual)\n",
    "print(\"Best Fitness:\", best_fitness)\n",
    "print(\"Execution Time:\", execution_time, \"seconds\")"
   ]
  },
  {
   "cell_type": "markdown",
   "id": "a0e40a54",
   "metadata": {},
   "source": [
    "### 10. Main function with rank_based_selection function"
   ]
  },
  {
   "cell_type": "code",
   "execution_count": 108,
   "id": "a47f999f",
   "metadata": {},
   "outputs": [],
   "source": [
    "def solve_n_queen(population_size, board_size, max_generations, mutation_rate):\n",
    "    population = initialize_population(population_size, board_size)\n",
    "    current_generation = 0\n",
    "\n",
    "    while not termination_condition(population, 1.0) and current_generation < max_generations:\n",
    "        parent_population = rank_based_selection(population)\n",
    "        offspring_population = []\n",
    "\n",
    "        while len(offspring_population) < population_size:\n",
    "            parent1, parent2 = random.sample(parent_population, 2)\n",
    "            crossover_point, child1, child2 = crossover(parent1, parent2)\n",
    "            mutated_child1 = mutation(child1, mutation_rate)\n",
    "            mutated_child2 = mutation(child2, mutation_rate)\n",
    "            offspring_population.extend([mutated_child1, mutated_child2])\n",
    "\n",
    "        population = replacement(parent_population, offspring_population, population_size)\n",
    "        current_generation += 1\n",
    "\n",
    "    best_individual = max(population, key=evaluate_fitness)\n",
    "    best_fitness = evaluate_fitness(best_individual)\n",
    "    return best_individual, best_fitness"
   ]
  },
  {
   "cell_type": "code",
   "execution_count": 109,
   "id": "b99b0c67",
   "metadata": {},
   "outputs": [
    {
     "name": "stdout",
     "output_type": "stream",
     "text": [
      "8-Queen Problem:\n",
      "Best Individual: [1, 3, 5, 0, 2, 6, 0, 7]\n",
      "- Q - - - - - -\n",
      "- - - Q - - - -\n",
      "- - - - - Q - -\n",
      "Q - - - - - - -\n",
      "- - Q - - - - -\n",
      "- - - - - - Q -\n",
      "Q - - - - - - -\n",
      "- - - - - - - Q\n",
      "Best Fitness: 0.25\n",
      "Execution Time: 2.51774525642395 seconds\n",
      "\n",
      "\n",
      "16-Queen Problem:\n",
      "Best Individual: [5, 4, 6, 9, 2, 15, 0, 14, 7, 8, 12, 1, 3, 0, 10, 13]\n",
      "- - - - - Q - - - - - - - - - -\n",
      "- - - - Q - - - - - - - - - - -\n",
      "- - - - - - Q - - - - - - - - -\n",
      "- - - - - - - - - Q - - - - - -\n",
      "- - Q - - - - - - - - - - - - -\n",
      "- - - - - - - - - - - - - - - Q\n",
      "Q - - - - - - - - - - - - - - -\n",
      "- - - - - - - - - - - - - - Q -\n",
      "- - - - - - - Q - - - - - - - -\n",
      "- - - - - - - - Q - - - - - - -\n",
      "- - - - - - - - - - - - Q - - -\n",
      "- Q - - - - - - - - - - - - - -\n",
      "- - - Q - - - - - - - - - - - -\n",
      "Q - - - - - - - - - - - - - - -\n",
      "- - - - - - - - - - Q - - - - -\n",
      "- - - - - - - - - - - - - Q - -\n",
      "Best Fitness: 0.125\n",
      "Execution Time: 30.874314546585083 seconds\n"
     ]
    }
   ],
   "source": [
    "def print_individual(individual):\n",
    "    board_size = len(individual)\n",
    "\n",
    "    for row in range(board_size):\n",
    "        line = \"\"\n",
    "        for col in range(board_size):\n",
    "            if individual[row] == col:\n",
    "                line += \"Q \"\n",
    "            else:\n",
    "                line += \"- \"\n",
    "        print(line.strip())\n",
    "        \n",
    "# Example for 8-Queen\n",
    "population_size = 100\n",
    "board_size = 8\n",
    "max_generations = 1000\n",
    "mutation_rate = 0.1\n",
    "\n",
    "start_time = time.time()\n",
    "best_individual, best_fitness = solve_n_queen(population_size, board_size, max_generations, mutation_rate)\n",
    "end_time = time.time()\n",
    "\n",
    "execution_time = end_time - start_time\n",
    "\n",
    "print(\"8-Queen Problem:\")\n",
    "print(\"Best Individual:\", best_individual)\n",
    "print_individual(best_individual)\n",
    "print(\"Best Fitness:\", best_fitness)\n",
    "print(\"Execution Time:\", execution_time, \"seconds\")\n",
    "\n",
    "print(\"\\n\")\n",
    "\n",
    "# Example for 16-Queen\n",
    "population_size = 200\n",
    "board_size = 16\n",
    "max_generations = 2000\n",
    "mutation_rate = 0.05\n",
    "\n",
    "start_time = time.time()\n",
    "best_individual, best_fitness = solve_n_queen(population_size, board_size, max_generations, mutation_rate)\n",
    "end_time = time.time()\n",
    "\n",
    "execution_time = end_time - start_time\n",
    "\n",
    "print(\"16-Queen Problem:\")\n",
    "print(\"Best Individual:\", best_individual)\n",
    "print_individual(best_individual)\n",
    "print(\"Best Fitness:\", best_fitness)\n",
    "print(\"Execution Time:\", execution_time, \"seconds\")"
   ]
  }
 ],
 "metadata": {
  "kernelspec": {
   "display_name": "Python 3 (ipykernel)",
   "language": "python",
   "name": "python3"
  },
  "language_info": {
   "codemirror_mode": {
    "name": "ipython",
    "version": 3
   },
   "file_extension": ".py",
   "mimetype": "text/x-python",
   "name": "python",
   "nbconvert_exporter": "python",
   "pygments_lexer": "ipython3",
   "version": "3.9.0"
  }
 },
 "nbformat": 4,
 "nbformat_minor": 5
}
