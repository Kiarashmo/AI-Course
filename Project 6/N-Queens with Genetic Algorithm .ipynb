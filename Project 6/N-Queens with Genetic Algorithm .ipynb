{
 "cells": [
  {
   "cell_type": "markdown",
   "id": "da6b3ca3",
   "metadata": {},
   "source": [
    "# N-Queen Problem using Evolutionary Algorithms\n",
    "## Kiarash Mokhtari - 9830032"
   ]
  },
  {
   "cell_type": "code",
   "execution_count": 79,
   "id": "e3582d67",
   "metadata": {},
   "outputs": [],
   "source": [
    "import random\n",
    "import time"
   ]
  },
  {
   "cell_type": "markdown",
   "id": "24c0ca29",
   "metadata": {},
   "source": [
    "### 1. First we define Initialize Population function which randomly generates individuals."
   ]
  },
  {
   "cell_type": "code",
   "execution_count": 80,
   "id": "af533510",
   "metadata": {},
   "outputs": [],
   "source": [
    "def initialize_population(population_size: int, board_size: int) -> list:\n",
    "    population = []\n",
    "    for _ in range(population_size):\n",
    "        individual = [random.randint(0, board_size-1) for _ in range(board_size)]\n",
    "        population.append(individual)\n",
    "\n",
    "    return population"
   ]
  },
  {
   "cell_type": "markdown",
   "id": "098b4548",
   "metadata": {},
   "source": [
    "### 2. we define Evaluate Fitness fucntion which evaluates the fitness of each individual in the population."
   ]
  },
  {
   "cell_type": "code",
   "execution_count": 81,
   "id": "bdbcba27",
   "metadata": {},
   "outputs": [],
   "source": [
    "def evaluate_fitness(individual):\n",
    "    conflicts = 0\n",
    "    size = len(individual)\n",
    "\n",
    "    for i in range(size):\n",
    "        for j in range(i+1, size):\n",
    "            if individual[i] == individual[j] or abs(individual[i] - individual[j]) == abs(i - j):\n",
    "                conflicts += 1\n",
    "\n",
    "    fitness = 1 / (conflicts + 1)\n",
    "\n",
    "    return fitness"
   ]
  },
  {
   "cell_type": "markdown",
   "id": "aa3cbc88",
   "metadata": {},
   "source": [
    "### 3. we define Selection fucntion which selects individuals from the population based on their fitness values. ."
   ]
  },
  {
   "cell_type": "code",
   "execution_count": 82,
   "id": "9f8ce204",
   "metadata": {},
   "outputs": [],
   "source": [
    "def tournament_selection(population, tournament_size):\n",
    "    selected = []\n",
    "    \n",
    "    for _ in range(len(population)):\n",
    "        sub_population = random.sample(population, tournament_size)\n",
    "        winner = max(sub_population, key=evaluate_fitness)\n",
    "        selected.append(winner)\n",
    "    \n",
    "    return selected"
   ]
  },
  {
   "cell_type": "markdown",
   "id": "604c1de4",
   "metadata": {},
   "source": [
    "### 4. we define Crossover fucntion which performs crossover or recombination between selected individuals to create offspring.\n"
   ]
  },
  {
   "cell_type": "code",
   "execution_count": 83,
   "id": "9a24de54",
   "metadata": {},
   "outputs": [],
   "source": [
    "def crossover(parent1, parent2):\n",
    "    size = len(parent1)\n",
    "    crossover_point = random.randint(1, size - 1)\n",
    "\n",
    "    child1 = parent1[:crossover_point] + parent2[crossover_point:]\n",
    "    child2 = parent2[:crossover_point] + parent1[crossover_point:]\n",
    "\n",
    "    return crossover_point, child1, child2"
   ]
  },
  {
   "cell_type": "markdown",
   "id": "f7cec85c",
   "metadata": {},
   "source": [
    "### 5. we define Mutation fucntion which adds diversity to the population and helps explore different regions of the solution space."
   ]
  },
  {
   "cell_type": "code",
   "execution_count": 84,
   "id": "5eb2036c",
   "metadata": {},
   "outputs": [],
   "source": [
    "def mutation(individual, mutation_rate):\n",
    "    size = len(individual)\n",
    "    mutated_individual = individual.copy()\n",
    "\n",
    "    for i in range(size):\n",
    "        if random.random() < mutation_rate:\n",
    "            new_position = random.randint(0, size - 1)\n",
    "            mutated_individual[i] = new_position\n",
    "\n",
    "    return mutated_individual"
   ]
  },
  {
   "cell_type": "markdown",
   "id": "16a814db",
   "metadata": {},
   "source": [
    "### 6. we define Replacement fucntion which selects individuals from the parent population and the offspring population to form the next generation."
   ]
  },
  {
   "cell_type": "code",
   "execution_count": 85,
   "id": "3c620924",
   "metadata": {},
   "outputs": [],
   "source": [
    "def replacement(parent_population, offspring_population, population_size):\n",
    "    combined_population = parent_population + offspring_population\n",
    "\n",
    "    combined_population.sort(key=evaluate_fitness, reverse=True)\n",
    "\n",
    "    next_generation = combined_population[:population_size]\n",
    "\n",
    "    return next_generation"
   ]
  },
  {
   "cell_type": "markdown",
   "id": "b75aaf25",
   "metadata": {},
   "source": [
    "### 7. we define Termination fucntion which determines when to stop the algorithm."
   ]
  },
  {
   "cell_type": "code",
   "execution_count": 86,
   "id": "8315ce90",
   "metadata": {},
   "outputs": [],
   "source": [
    "def termination_condition(population, max_fitness):\n",
    "    max_population_fitness = max(evaluate_fitness(individual) for individual in population)\n",
    "    return max_population_fitness == max_fitness"
   ]
  },
  {
   "cell_type": "code",
   "execution_count": 88,
   "id": "3cf8f50d",
   "metadata": {},
   "outputs": [],
   "source": [
    "def local_search(individual):\n",
    "    best_fitness = evaluate_fitness(individual)\n",
    "    best_individual = individual\n",
    "    size = len(individual)\n",
    "\n",
    "    for i in range(size):\n",
    "        for j in range(size):\n",
    "            if individual[i] != j:\n",
    "                new_individual = individual[:]\n",
    "                new_individual[i] = j\n",
    "                new_fitness = evaluate_fitness(new_individual)\n",
    "                if new_fitness > best_fitness:\n",
    "                    best_fitness = new_fitness\n",
    "                    best_individual = new_individual\n",
    "\n",
    "    return best_individual"
   ]
  },
  {
   "cell_type": "markdown",
   "id": "68600578",
   "metadata": {},
   "source": [
    "### 8. Main function tournament_selection function"
   ]
  },
  {
   "cell_type": "code",
   "execution_count": 89,
   "id": "09a6eda3",
   "metadata": {},
   "outputs": [],
   "source": [
    "def solve_n_queen(population_size, board_size, mutation_rate):\n",
    "    population = initialize_population(population_size, board_size)\n",
    "    current_generation = 0\n",
    "\n",
    "    while not termination_condition(population, 1.0):\n",
    "        parent_population = tournament_selection(population, 3)\n",
    "        offspring_population = []\n",
    "\n",
    "        while len(offspring_population) < population_size:\n",
    "            parent1, parent2 = random.sample(parent_population, 2)\n",
    "            crossover_point, child1, child2 = crossover(parent1, parent2)\n",
    "            mutated_child1 = mutation(child1, mutation_rate)\n",
    "            mutated_child2 = mutation(child2, mutation_rate)\n",
    "            offspring_population.extend([mutated_child1, mutated_child2])\n",
    "\n",
    "        population = replacement(parent_population, offspring_population, population_size)\n",
    "        population = [local_search(individual) for individual in population]\n",
    "        current_generation += 1\n",
    "\n",
    "    best_individual = max(population, key=evaluate_fitness)\n",
    "    best_fitness = evaluate_fitness(best_individual)\n",
    "    return best_individual, best_fitness"
   ]
  },
  {
   "cell_type": "code",
   "execution_count": 90,
   "id": "e23c984c",
   "metadata": {},
   "outputs": [
    {
     "name": "stdout",
     "output_type": "stream",
     "text": [
      "8-Queen Problem:\n",
      "Best Individual: [5, 2, 6, 1, 3, 7, 0, 4]\n",
      "- - - - - Q - -\n",
      "- - Q - - - - -\n",
      "- - - - - - Q -\n",
      "- Q - - - - - -\n",
      "- - - Q - - - -\n",
      "- - - - - - - Q\n",
      "Q - - - - - - -\n",
      "- - - - Q - - -\n",
      "Best Fitness: 1.0\n",
      "Execution Time: 0.7532246112823486 seconds\n",
      "\n",
      "\n",
      "16-Queen Problem:\n",
      "Best Individual: [10, 2, 7, 5, 13, 0, 14, 6, 15, 3, 8, 4, 12, 9, 11, 1]\n",
      "- - - - - - - - - - Q - - - - -\n",
      "- - Q - - - - - - - - - - - - -\n",
      "- - - - - - - Q - - - - - - - -\n",
      "- - - - - Q - - - - - - - - - -\n",
      "- - - - - - - - - - - - - Q - -\n",
      "Q - - - - - - - - - - - - - - -\n",
      "- - - - - - - - - - - - - - Q -\n",
      "- - - - - - Q - - - - - - - - -\n",
      "- - - - - - - - - - - - - - - Q\n",
      "- - - Q - - - - - - - - - - - -\n",
      "- - - - - - - - Q - - - - - - -\n",
      "- - - - Q - - - - - - - - - - -\n",
      "- - - - - - - - - - - - Q - - -\n",
      "- - - - - - - - - Q - - - - - -\n",
      "- - - - - - - - - - - Q - - - -\n",
      "- Q - - - - - - - - - - - - - -\n",
      "Best Fitness: 1.0\n",
      "Execution Time: 315.4497609138489 seconds\n"
     ]
    }
   ],
   "source": [
    "def print_individual(individual):\n",
    "    board_size = len(individual)\n",
    "\n",
    "    for row in range(board_size):\n",
    "        line = \"\"\n",
    "        for col in range(board_size):\n",
    "            if individual[row] == col:\n",
    "                line += \"Q \"\n",
    "            else:\n",
    "                line += \"- \"\n",
    "        print(line.strip())\n",
    "        \n",
    "# Example for 8-Queen\n",
    "population_size = 1000\n",
    "board_size = 8\n",
    "mutation_rate = 0.1\n",
    "\n",
    "start_time = time.time()\n",
    "best_individual, best_fitness = solve_n_queen(population_size, board_size, mutation_rate)\n",
    "end_time = time.time()\n",
    "\n",
    "execution_time = end_time - start_time\n",
    "\n",
    "print(\"8-Queen Problem:\")\n",
    "print(\"Best Individual:\", best_individual)\n",
    "print_individual(best_individual)\n",
    "print(\"Best Fitness:\", best_fitness)\n",
    "print(\"Execution Time:\", execution_time, \"seconds\")\n",
    "\n",
    "print(\"\\n\")\n",
    "\n",
    "# Example for 16-Queen\n",
    "population_size = 100\n",
    "board_size = 16\n",
    "mutation_rate = 0.3\n",
    "\n",
    "start_time = time.time()\n",
    "best_individual, best_fitness = solve_n_queen(population_size, board_size, mutation_rate)\n",
    "end_time = time.time()\n",
    "\n",
    "execution_time = end_time - start_time\n",
    "\n",
    "print(\"16-Queen Problem:\")\n",
    "print(\"Best Individual:\", best_individual)\n",
    "print_individual(best_individual)\n",
    "print(\"Best Fitness:\", best_fitness)\n",
    "print(\"Execution Time:\", execution_time, \"seconds\")"
   ]
  }
 ],
 "metadata": {
  "kernelspec": {
   "display_name": "Python 3 (ipykernel)",
   "language": "python",
   "name": "python3"
  },
  "language_info": {
   "codemirror_mode": {
    "name": "ipython",
    "version": 3
   },
   "file_extension": ".py",
   "mimetype": "text/x-python",
   "name": "python",
   "nbconvert_exporter": "python",
   "pygments_lexer": "ipython3",
   "version": "3.9.0"
  }
 },
 "nbformat": 4,
 "nbformat_minor": 5
}
