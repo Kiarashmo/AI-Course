{
 "cells": [
  {
   "cell_type": "markdown",
   "id": "da6b3ca3",
   "metadata": {},
   "source": [
    "# N-Queen Problem using Evolutionary Algorithms\n",
    "## Kiarash Mokhtari - 9830032"
   ]
  },
  {
   "cell_type": "code",
   "execution_count": 1,
   "id": "e3582d67",
   "metadata": {},
   "outputs": [],
   "source": [
    "import random\n",
    "import time"
   ]
  },
  {
   "cell_type": "markdown",
   "id": "24c0ca29",
   "metadata": {},
   "source": [
    "### 1. First we define Initialize Population function which randomly generates individuals."
   ]
  },
  {
   "cell_type": "code",
   "execution_count": 2,
   "id": "af533510",
   "metadata": {},
   "outputs": [],
   "source": [
    "def initialize_population(population_size: int, board_size: int) -> list:\n",
    "    population = []\n",
    "    for _ in range(population_size):\n",
    "        individual = [random.randint(0, board_size-1) for _ in range(board_size)]\n",
    "        population.append(individual)\n",
    "\n",
    "    return population"
   ]
  },
  {
   "cell_type": "code",
   "execution_count": 3,
   "id": "22097c25",
   "metadata": {},
   "outputs": [
    {
     "name": "stdout",
     "output_type": "stream",
     "text": [
      "[2, 4, 6, 5, 0, 3, 2, 1]\n",
      "[5, 6, 4, 3, 6, 6, 1, 3]\n",
      "[0, 5, 7, 3, 5, 7, 2, 1]\n",
      "[5, 1, 4, 2, 4, 2, 6, 1]\n",
      "[1, 4, 3, 6, 1, 7, 4, 7]\n",
      "[3, 0, 1, 3, 5, 7, 7, 6]\n",
      "[7, 3, 1, 0, 1, 3, 6, 0]\n",
      "[2, 2, 4, 2, 7, 3, 1, 3]\n",
      "[4, 3, 6, 1, 5, 5, 1, 2]\n",
      "[7, 3, 2, 4, 3, 3, 7, 7]\n"
     ]
    }
   ],
   "source": [
    "# Inorder to test the function we can run below code:\n",
    "def print_matrix(matrix):\n",
    "    for row in matrix:\n",
    "        print(row)\n",
    "        \n",
    "population_size = 10\n",
    "board_size = 8\n",
    "\n",
    "sample_population = initialize_population(population_size, board_size)\n",
    "print_matrix(sample_population)"
   ]
  },
  {
   "cell_type": "markdown",
   "id": "098b4548",
   "metadata": {},
   "source": [
    "### 2. we define Evaluate Fitness fucntion which evaluates the fitness of each individual in the population."
   ]
  },
  {
   "cell_type": "code",
   "execution_count": 4,
   "id": "bdbcba27",
   "metadata": {},
   "outputs": [],
   "source": [
    "def evaluate_fitness(individual):\n",
    "    conflicts = 0\n",
    "    size = len(individual)\n",
    "\n",
    "    for i in range(size):\n",
    "        for j in range(i+1, size):\n",
    "            if individual[i] == individual[j] or abs(individual[i] - individual[j]) == abs(i - j):\n",
    "                conflicts += 1\n",
    "\n",
    "    fitness = 1 / (conflicts + 1)\n",
    "\n",
    "    return fitness"
   ]
  },
  {
   "cell_type": "code",
   "execution_count": 5,
   "id": "4475ffed",
   "metadata": {},
   "outputs": [
    {
     "name": "stdout",
     "output_type": "stream",
     "text": [
      "0.07142857142857142\n",
      "0.1\n",
      "0.14285714285714285\n",
      "0.1111111111111111\n",
      "0.1111111111111111\n",
      "0.1111111111111111\n",
      "0.14285714285714285\n",
      "0.16666666666666666\n",
      "0.1111111111111111\n",
      "0.07692307692307693\n"
     ]
    }
   ],
   "source": [
    "# Inorder to test the function we can run below code:\n",
    "for individual in sample_population:\n",
    "    print(evaluate_fitness(individual))"
   ]
  },
  {
   "cell_type": "markdown",
   "id": "aa3cbc88",
   "metadata": {},
   "source": [
    "### 3. we define Selection fucntion which selects individuals from the population based on their fitness values. ."
   ]
  },
  {
   "cell_type": "code",
   "execution_count": 6,
   "id": "9f8ce204",
   "metadata": {},
   "outputs": [],
   "source": [
    "# 1 approach\n",
    "def tournament_selection(population, tournament_size):\n",
    "    selected = []\n",
    "    \n",
    "    for _ in range(len(population)):\n",
    "        sub_population = random.sample(population, tournament_size)\n",
    "        winner = max(sub_population, key=evaluate_fitness)\n",
    "        selected.append(winner)\n",
    "    \n",
    "    return selected"
   ]
  },
  {
   "cell_type": "markdown",
   "id": "604c1de4",
   "metadata": {},
   "source": [
    "### 4. we define Crossover fucntion which performs crossover or recombination between selected individuals to create offspring.\n"
   ]
  },
  {
   "cell_type": "code",
   "execution_count": 7,
   "id": "9a24de54",
   "metadata": {},
   "outputs": [],
   "source": [
    "def crossover(parent1, parent2):\n",
    "    size = len(parent1)\n",
    "    crossover_point = random.randint(1, size - 1)\n",
    "\n",
    "    child1 = parent1[:crossover_point] + parent2[crossover_point:]\n",
    "    child2 = parent2[:crossover_point] + parent1[crossover_point:]\n",
    "\n",
    "    return crossover_point, child1, child2"
   ]
  },
  {
   "cell_type": "code",
   "execution_count": 8,
   "id": "73726708",
   "metadata": {},
   "outputs": [
    {
     "name": "stdout",
     "output_type": "stream",
     "text": [
      "Children before Crossover:\n",
      "[0, 3, 6, 4, 7, 1, 5, 2]\n",
      "[4, 1, 3, 6, 2, 0, 7, 5]\n",
      "========================================================\n",
      "Children after Crossover:\n",
      "[0, 3, 6, 6, 2, 0, 7, 5]\n",
      "[4, 1, 3, 4, 7, 1, 5, 2]\n",
      "Crossover Point:  3\n"
     ]
    }
   ],
   "source": [
    "# Inorder to test the function we can run below code:\n",
    "parent1 = [0, 3, 6, 4, 7, 1, 5, 2]\n",
    "parent2 = [4, 1, 3, 6, 2, 0, 7, 5]\n",
    "\n",
    "print(\"Children before Crossover:\")\n",
    "print(parent1)\n",
    "print(parent2)\n",
    "print(\"========================================================\")\n",
    "\n",
    "crossover_point, child1, child2 = crossover(parent1, parent2)\n",
    "print(\"Children after Crossover:\")\n",
    "print(child1)\n",
    "print(child2)\n",
    "print(\"Crossover Point: \", crossover_point)"
   ]
  },
  {
   "cell_type": "markdown",
   "id": "f7cec85c",
   "metadata": {},
   "source": [
    "### 5. we define Mutation fucntion which adds diversity to the population and helps explore different regions of the solution space."
   ]
  },
  {
   "cell_type": "code",
   "execution_count": 9,
   "id": "5eb2036c",
   "metadata": {},
   "outputs": [],
   "source": [
    "def mutation(individual, mutation_rate):\n",
    "    size = len(individual)\n",
    "    mutated_individual = individual.copy()\n",
    "\n",
    "    for i in range(size):\n",
    "        if random.random() < mutation_rate:\n",
    "            new_position = random.randint(0, size - 1)\n",
    "            mutated_individual[i] = new_position\n",
    "\n",
    "    return mutated_individual"
   ]
  },
  {
   "cell_type": "code",
   "execution_count": 10,
   "id": "8bd47ddb",
   "metadata": {},
   "outputs": [
    {
     "name": "stdout",
     "output_type": "stream",
     "text": [
      "[0, 3, 6, 4, 7, 1, 5, 2]\n"
     ]
    }
   ],
   "source": [
    "# Inorder to test the function we can run below code:\n",
    "individual = [0, 3, 6, 4, 7, 1, 5, 2]\n",
    "mutation_rate = 0.1\n",
    "\n",
    "mutated_individual = mutation(individual, mutation_rate)\n",
    "print(mutated_individual)"
   ]
  },
  {
   "cell_type": "markdown",
   "id": "16a814db",
   "metadata": {},
   "source": [
    "### 6. we define Replacement fucntion which selects individuals from the parent population and the offspring population to form the next generation."
   ]
  },
  {
   "cell_type": "code",
   "execution_count": 11,
   "id": "3c620924",
   "metadata": {},
   "outputs": [],
   "source": [
    "def replacement(parent_population, offspring_population, population_size):\n",
    "    combined_population = parent_population + offspring_population\n",
    "\n",
    "    combined_population.sort(key=evaluate_fitness, reverse=True)\n",
    "\n",
    "    next_generation = combined_population[:population_size]\n",
    "\n",
    "    return next_generation"
   ]
  },
  {
   "cell_type": "markdown",
   "id": "b75aaf25",
   "metadata": {},
   "source": [
    "### 7. we define Termination fucntion which determines when to stop the algorithm."
   ]
  },
  {
   "cell_type": "code",
   "execution_count": 12,
   "id": "8315ce90",
   "metadata": {},
   "outputs": [],
   "source": [
    "def termination_condition(population, max_fitness):\n",
    "    for individual in population:\n",
    "        if evaluate_fitness(individual) >= max_fitness:\n",
    "            return True\n",
    "    return False"
   ]
  },
  {
   "cell_type": "markdown",
   "id": "68600578",
   "metadata": {},
   "source": [
    "### 8. Main function tournament_selection function"
   ]
  },
  {
   "cell_type": "code",
   "execution_count": 13,
   "id": "09a6eda3",
   "metadata": {},
   "outputs": [],
   "source": [
    "def solve_n_queen(population_size, board_size, max_generations, mutation_rate):\n",
    "    population = initialize_population(population_size, board_size)\n",
    "    current_generation = 0\n",
    "\n",
    "    while not termination_condition(population, 1.0) and current_generation > max_generations:\n",
    "        parent_population = tournament_selection(population, 3)\n",
    "        offspring_population = []\n",
    "\n",
    "        while len(offspring_population) < population_size:\n",
    "            parent1, parent2 = random.sample(parent_population, 2)\n",
    "            crossover_point, child1, child2 = crossover(parent1, parent2)\n",
    "            mutated_child1 = mutation(child1, mutation_rate)\n",
    "            mutated_child2 = mutation(child2, mutation_rate)\n",
    "            offspring_population.extend([mutated_child1, mutated_child2])\n",
    "\n",
    "        population = replacement(parent_population, offspring_population, population_size)\n",
    "        current_generation += 1\n",
    "\n",
    "    best_individual = max(population, key=evaluate_fitness)\n",
    "    best_fitness = evaluate_fitness(best_individual)\n",
    "    return best_individual, best_fitness"
   ]
  },
  {
   "cell_type": "code",
   "execution_count": 14,
   "id": "e23c984c",
   "metadata": {},
   "outputs": [
    {
     "name": "stdout",
     "output_type": "stream",
     "text": [
      "8-Queen Problem:\n",
      "Best Individual: [1, 7, 7, 3, 0, 2, 5, 5]\n",
      "- Q - - - - - -\n",
      "- - - - - - - Q\n",
      "- - - - - - - Q\n",
      "- - - Q - - - -\n",
      "Q - - - - - - -\n",
      "- - Q - - - - -\n",
      "- - - - - Q - -\n",
      "- - - - - Q - -\n",
      "Best Fitness: 0.3333333333333333\n",
      "Execution Time: 0.025638580322265625 seconds\n",
      "\n",
      "\n",
      "16-Queen Problem:\n",
      "Best Individual: [4, 12, 6, 0, 9, 15, 6, 8, 14, 1, 2, 0, 15, 3, 10, 12]\n",
      "- - - - Q - - - - - - - - - - -\n",
      "- - - - - - - - - - - - Q - - -\n",
      "- - - - - - Q - - - - - - - - -\n",
      "Q - - - - - - - - - - - - - - -\n",
      "- - - - - - - - - Q - - - - - -\n",
      "- - - - - - - - - - - - - - - Q\n",
      "- - - - - - Q - - - - - - - - -\n",
      "- - - - - - - - Q - - - - - - -\n",
      "- - - - - - - - - - - - - - Q -\n",
      "- Q - - - - - - - - - - - - - -\n",
      "- - Q - - - - - - - - - - - - -\n",
      "Q - - - - - - - - - - - - - - -\n",
      "- - - - - - - - - - - - - - - Q\n",
      "- - - Q - - - - - - - - - - - -\n",
      "- - - - - - - - - - Q - - - - -\n",
      "- - - - - - - - - - - - Q - - -\n",
      "Best Fitness: 0.09090909090909091\n",
      "Execution Time: 0.011492490768432617 seconds\n"
     ]
    }
   ],
   "source": [
    "def print_individual(individual):\n",
    "    board_size = len(individual)\n",
    "\n",
    "    for row in range(board_size):\n",
    "        line = \"\"\n",
    "        for col in range(board_size):\n",
    "            if individual[row] == col:\n",
    "                line += \"Q \"\n",
    "            else:\n",
    "                line += \"- \"\n",
    "        print(line.strip())\n",
    "        \n",
    "# Example for 8-Queen\n",
    "population_size = 1000\n",
    "board_size = 8\n",
    "max_generations = 1000\n",
    "mutation_rate = 0.1\n",
    "\n",
    "start_time = time.time()\n",
    "best_individual, best_fitness = solve_n_queen(population_size, board_size, max_generations, mutation_rate)\n",
    "end_time = time.time()\n",
    "\n",
    "execution_time = end_time - start_time\n",
    "\n",
    "print(\"8-Queen Problem:\")\n",
    "print(\"Best Individual:\", best_individual)\n",
    "print_individual(best_individual)\n",
    "print(\"Best Fitness:\", best_fitness)\n",
    "print(\"Execution Time:\", execution_time, \"seconds\")\n",
    "\n",
    "print(\"\\n\")\n",
    "\n",
    "# Example for 16-Queen\n",
    "population_size = 200\n",
    "board_size = 16\n",
    "max_generations = 2000\n",
    "mutation_rate = 0.5\n",
    "\n",
    "start_time = time.time()\n",
    "best_individual, best_fitness = solve_n_queen(population_size, board_size, max_generations, mutation_rate)\n",
    "end_time = time.time()\n",
    "\n",
    "execution_time = end_time - start_time\n",
    "\n",
    "print(\"16-Queen Problem:\")\n",
    "print(\"Best Individual:\", best_individual)\n",
    "print_individual(best_individual)\n",
    "print(\"Best Fitness:\", best_fitness)\n",
    "print(\"Execution Time:\", execution_time, \"seconds\")"
   ]
  },
  {
   "cell_type": "markdown",
   "id": "c3871095",
   "metadata": {},
   "source": [
    "### Now if we edit the Evaluate fitness function inorder to run the 16-Quenn:"
   ]
  },
  {
   "cell_type": "code",
   "execution_count": 15,
   "id": "299f05f6",
   "metadata": {},
   "outputs": [],
   "source": [
    "def evaluate_fitness(individual):\n",
    "    conflicts = 0\n",
    "    size = len(individual)\n",
    "    rows = [0] * size\n",
    "    diagonals1 = [0] * (2 * size - 1)\n",
    "    diagonals2 = [0] * (2 * size - 1)\n",
    "\n",
    "    # Only consider the upper half of the board\n",
    "    half_size = size // 2\n",
    "    for i in range(half_size):\n",
    "        queen_col = individual[i]\n",
    "        rows[queen_col] += 1\n",
    "        diagonals1[i + queen_col] += 1\n",
    "        diagonals2[half_size - 1 - i + queen_col] += 1\n",
    "\n",
    "    # Calculate conflicts\n",
    "    for i in range(half_size):\n",
    "        queen_col = individual[i]\n",
    "        conflicts += rows[queen_col] - 1\n",
    "        conflicts += diagonals1[i + queen_col] - 1\n",
    "        conflicts += diagonals2[half_size - 1 - i + queen_col] - 1\n",
    "\n",
    "    # Double the conflicts for the complete board (considering vertical symmetry)\n",
    "    conflicts *= 2\n",
    "\n",
    "    # If the board size is odd, consider the middle column\n",
    "    if size % 2 != 0:\n",
    "        middle_col = individual[half_size]\n",
    "        conflicts += rows[middle_col] - 1\n",
    "        conflicts += diagonals1[half_size + middle_col] - 1\n",
    "        conflicts += diagonals2[half_size - 1 - middle_col] - 1\n",
    "\n",
    "    fitness = 1 / (conflicts + 1)\n",
    "\n",
    "    return fitness\n"
   ]
  },
  {
   "cell_type": "code",
   "execution_count": 16,
   "id": "e814442c",
   "metadata": {},
   "outputs": [],
   "source": [
    "def print_individual(individual):\n",
    "    board_size = len(individual)\n",
    "\n",
    "    for row in range(board_size):\n",
    "        line = \"\"\n",
    "        for col in range(board_size):\n",
    "            if individual[row] == col:\n",
    "                line += \"Q \"\n",
    "            else:\n",
    "                line += \"- \"\n",
    "        print(line.strip())"
   ]
  },
  {
   "cell_type": "code",
   "execution_count": 17,
   "id": "db0f830d",
   "metadata": {},
   "outputs": [],
   "source": [
    "def solve_n_queen(population_size, board_size, mutation_rate):\n",
    "    population = initialize_population(population_size, board_size)\n",
    "    current_generation = 0\n",
    "\n",
    "    while not termination_condition(population, 1.0):\n",
    "        parent_population = tournament_selection(population, 3)\n",
    "        offspring_population = []\n",
    "\n",
    "        while len(offspring_population) < population_size:\n",
    "            parent1, parent2 = random.sample(parent_population, 2)\n",
    "            _, child1, child2 = crossover(parent1, parent2)\n",
    "            mutated_child1 = mutation(child1, mutation_rate)\n",
    "            mutated_child2 = mutation(child2, mutation_rate)\n",
    "            offspring_population.extend([mutated_child1, mutated_child2])\n",
    "\n",
    "        population = replacement(parent_population, offspring_population, population_size)\n",
    "        \n",
    "        current_generation_individual = max(population, key=evaluate_fitness)\n",
    "        fitness_score = evaluate_fitness(current_generation_individual)\n",
    "        print(\"Generation:\", current_generation, \"Individual:\", current_generation_individual, \"Fitness score:\", fitness_score)\n",
    "        current_generation += 1\n",
    "\n",
    "    best_individual = max(population, key=evaluate_fitness)\n",
    "    best_fitness = evaluate_fitness(best_individual)\n",
    "    print(\"============================================\")\n",
    "    print(f\"Example for {board_size}-Queen:\")\n",
    "    print(\"Best individual:\", best_individual)\n",
    "    print_individual(best_individual)\n",
    "    print(\"Best Fitness score:\", best_fitness)\n"
   ]
  },
  {
   "cell_type": "code",
   "execution_count": 20,
   "id": "f3d7fe6a",
   "metadata": {},
   "outputs": [
    {
     "name": "stdout",
     "output_type": "stream",
     "text": [
      "Generation: 0 Individual: [41, 47, 44, 57, 5, 21, 10, 14, 0, 26, 32, 9, 59, 50, 33, 12, 1, 27, 54, 13, 29, 35, 8, 53, 0, 58, 5, 50, 6, 23, 55, 28, 51, 50, 20, 33, 50, 54, 45, 50, 32, 29, 0, 37, 40, 45, 58, 28, 45, 57, 36, 50, 30, 59, 40, 49, 5, 33, 38, 9] Fitness score: 0.058823529411764705\n",
      "Generation: 1 Individual: [41, 47, 44, 57, 5, 21, 10, 14, 0, 26, 32, 9, 59, 50, 33, 12, 1, 27, 54, 13, 29, 35, 8, 53, 0, 58, 5, 50, 6, 23, 55, 28, 51, 50, 20, 33, 50, 54, 45, 50, 32, 29, 0, 37, 40, 45, 58, 28, 45, 57, 36, 50, 30, 59, 40, 49, 5, 33, 38, 9] Fitness score: 0.058823529411764705\n",
      "Generation: 2 Individual: [41, 47, 44, 57, 5, 21, 10, 14, 0, 26, 32, 9, 59, 50, 33, 12, 1, 27, 54, 13, 29, 35, 8, 53, 0, 58, 5, 50, 6, 23, 55, 28, 51, 50, 20, 33, 50, 54, 45, 50, 32, 29, 0, 37, 40, 45, 58, 28, 45, 57, 36, 50, 30, 59, 40, 49, 5, 33, 38, 9] Fitness score: 0.058823529411764705\n",
      "Generation: 3 Individual: [51, 27, 2, 52, 37, 33, 17, 38, 50, 1, 4, 48, 59, 39, 32, 58, 54, 20, 43, 25, 34, 8, 19, 9, 12, 10, 24, 56, 44, 49, 25, 58, 49, 0, 29, 0, 4, 46, 50, 8, 55, 28, 58, 51, 45, 21, 1, 4, 20, 24, 42, 23, 41, 26, 2, 33, 1, 49, 4, 33] Fitness score: 0.1111111111111111\n",
      "Generation: 4 Individual: [51, 27, 2, 52, 37, 33, 17, 38, 50, 1, 4, 48, 59, 39, 32, 58, 54, 20, 43, 25, 34, 8, 19, 9, 12, 10, 24, 56, 44, 49, 25, 58, 49, 0, 29, 0, 4, 46, 50, 8, 55, 28, 58, 51, 45, 21, 1, 4, 20, 24, 42, 23, 41, 26, 2, 33, 1, 49, 4, 33] Fitness score: 0.1111111111111111\n",
      "Generation: 5 Individual: [51, 27, 2, 52, 37, 33, 17, 38, 50, 1, 4, 48, 59, 39, 32, 58, 54, 20, 43, 25, 34, 8, 19, 9, 12, 10, 24, 56, 44, 49, 25, 58, 49, 0, 29, 0, 4, 46, 50, 8, 55, 28, 58, 51, 45, 21, 1, 4, 20, 24, 42, 23, 41, 26, 2, 33, 1, 49, 4, 33] Fitness score: 0.1111111111111111\n",
      "Generation: 6 Individual: [35, 34, 13, 44, 7, 23, 1, 55, 9, 54, 0, 58, 43, 41, 56, 53, 59, 32, 14, 12, 25, 20, 3, 6, 16, 42, 10, 27, 5, 49, 21, 41, 40, 47, 46, 24, 1, 47, 35, 9, 56, 22, 59, 36, 15, 54, 26, 25, 38, 16, 37, 59, 20, 52, 26, 1, 44, 10, 27, 32] Fitness score: 0.1111111111111111\n",
      "Generation: 7 Individual: [35, 34, 13, 44, 7, 23, 1, 55, 9, 54, 0, 58, 43, 41, 56, 53, 59, 32, 14, 12, 25, 20, 3, 6, 16, 42, 10, 27, 5, 49, 21, 41, 40, 47, 46, 24, 1, 47, 35, 9, 56, 22, 59, 36, 15, 54, 26, 25, 38, 16, 37, 59, 20, 52, 26, 1, 44, 10, 27, 32] Fitness score: 0.1111111111111111\n",
      "Generation: 8 Individual: [16, 28, 8, 39, 35, 2, 31, 52, 59, 11, 42, 45, 29, 18, 33, 36, 49, 41, 17, 9, 3, 13, 0, 26, 22, 37, 15, 34, 57, 24, 3, 54, 10, 28, 25, 27, 50, 54, 45, 29, 37, 29, 4, 37, 40, 51, 38, 30, 28, 27, 44, 16, 30, 50, 42, 9, 46, 53, 2, 18] Fitness score: 0.2\n",
      "Generation: 9 Individual: [16, 28, 8, 39, 35, 2, 31, 52, 59, 11, 42, 45, 29, 18, 33, 36, 49, 41, 17, 9, 3, 13, 0, 26, 22, 37, 15, 34, 57, 24, 3, 54, 10, 28, 25, 27, 50, 54, 45, 29, 37, 29, 4, 37, 40, 51, 38, 30, 28, 27, 44, 16, 30, 50, 42, 9, 46, 53, 2, 18] Fitness score: 0.2\n",
      "Generation: 10 Individual: [42, 53, 22, 57, 54, 39, 37, 32, 18, 4, 1, 50, 8, 17, 31, 14, 30, 11, 59, 2, 52, 49, 19, 10, 27, 13, 24, 0, 41, 3, 44, 59, 58, 43, 14, 14, 8, 40, 46, 39, 37, 3, 12, 2, 18, 52, 4, 17, 31, 54, 3, 5, 5, 7, 36, 18, 1, 28, 51, 41] Fitness score: 1.0\n",
      "============================================\n",
      "Example for 60-Queen:\n",
      "Best individual: [42, 53, 22, 57, 54, 39, 37, 32, 18, 4, 1, 50, 8, 17, 31, 14, 30, 11, 59, 2, 52, 49, 19, 10, 27, 13, 24, 0, 41, 3, 44, 59, 58, 43, 14, 14, 8, 40, 46, 39, 37, 3, 12, 2, 18, 52, 4, 17, 31, 54, 3, 5, 5, 7, 36, 18, 1, 28, 51, 41]\n",
      "- - - - - - - - - - - - - - - - - - - - - - - - - - - - - - - - - - - - - - - - - - Q - - - - - - - - - - - - - - - - -\n",
      "- - - - - - - - - - - - - - - - - - - - - - - - - - - - - - - - - - - - - - - - - - - - - - - - - - - - - Q - - - - - -\n",
      "- - - - - - - - - - - - - - - - - - - - - - Q - - - - - - - - - - - - - - - - - - - - - - - - - - - - - - - - - - - - -\n",
      "- - - - - - - - - - - - - - - - - - - - - - - - - - - - - - - - - - - - - - - - - - - - - - - - - - - - - - - - - Q - -\n",
      "- - - - - - - - - - - - - - - - - - - - - - - - - - - - - - - - - - - - - - - - - - - - - - - - - - - - - - Q - - - - -\n",
      "- - - - - - - - - - - - - - - - - - - - - - - - - - - - - - - - - - - - - - - Q - - - - - - - - - - - - - - - - - - - -\n",
      "- - - - - - - - - - - - - - - - - - - - - - - - - - - - - - - - - - - - - Q - - - - - - - - - - - - - - - - - - - - - -\n",
      "- - - - - - - - - - - - - - - - - - - - - - - - - - - - - - - - Q - - - - - - - - - - - - - - - - - - - - - - - - - - -\n",
      "- - - - - - - - - - - - - - - - - - Q - - - - - - - - - - - - - - - - - - - - - - - - - - - - - - - - - - - - - - - - -\n",
      "- - - - Q - - - - - - - - - - - - - - - - - - - - - - - - - - - - - - - - - - - - - - - - - - - - - - - - - - - - - - -\n",
      "- Q - - - - - - - - - - - - - - - - - - - - - - - - - - - - - - - - - - - - - - - - - - - - - - - - - - - - - - - - - -\n",
      "- - - - - - - - - - - - - - - - - - - - - - - - - - - - - - - - - - - - - - - - - - - - - - - - - - Q - - - - - - - - -\n",
      "- - - - - - - - Q - - - - - - - - - - - - - - - - - - - - - - - - - - - - - - - - - - - - - - - - - - - - - - - - - - -\n",
      "- - - - - - - - - - - - - - - - - Q - - - - - - - - - - - - - - - - - - - - - - - - - - - - - - - - - - - - - - - - - -\n",
      "- - - - - - - - - - - - - - - - - - - - - - - - - - - - - - - Q - - - - - - - - - - - - - - - - - - - - - - - - - - - -\n",
      "- - - - - - - - - - - - - - Q - - - - - - - - - - - - - - - - - - - - - - - - - - - - - - - - - - - - - - - - - - - - -\n",
      "- - - - - - - - - - - - - - - - - - - - - - - - - - - - - - Q - - - - - - - - - - - - - - - - - - - - - - - - - - - - -\n",
      "- - - - - - - - - - - Q - - - - - - - - - - - - - - - - - - - - - - - - - - - - - - - - - - - - - - - - - - - - - - - -\n",
      "- - - - - - - - - - - - - - - - - - - - - - - - - - - - - - - - - - - - - - - - - - - - - - - - - - - - - - - - - - - Q\n",
      "- - Q - - - - - - - - - - - - - - - - - - - - - - - - - - - - - - - - - - - - - - - - - - - - - - - - - - - - - - - - -\n",
      "- - - - - - - - - - - - - - - - - - - - - - - - - - - - - - - - - - - - - - - - - - - - - - - - - - - - Q - - - - - - -\n",
      "- - - - - - - - - - - - - - - - - - - - - - - - - - - - - - - - - - - - - - - - - - - - - - - - - Q - - - - - - - - - -\n",
      "- - - - - - - - - - - - - - - - - - - Q - - - - - - - - - - - - - - - - - - - - - - - - - - - - - - - - - - - - - - - -\n",
      "- - - - - - - - - - Q - - - - - - - - - - - - - - - - - - - - - - - - - - - - - - - - - - - - - - - - - - - - - - - - -\n",
      "- - - - - - - - - - - - - - - - - - - - - - - - - - - Q - - - - - - - - - - - - - - - - - - - - - - - - - - - - - - - -\n",
      "- - - - - - - - - - - - - Q - - - - - - - - - - - - - - - - - - - - - - - - - - - - - - - - - - - - - - - - - - - - - -\n",
      "- - - - - - - - - - - - - - - - - - - - - - - - Q - - - - - - - - - - - - - - - - - - - - - - - - - - - - - - - - - - -\n",
      "Q - - - - - - - - - - - - - - - - - - - - - - - - - - - - - - - - - - - - - - - - - - - - - - - - - - - - - - - - - - -\n",
      "- - - - - - - - - - - - - - - - - - - - - - - - - - - - - - - - - - - - - - - - - Q - - - - - - - - - - - - - - - - - -\n",
      "- - - Q - - - - - - - - - - - - - - - - - - - - - - - - - - - - - - - - - - - - - - - - - - - - - - - - - - - - - - - -\n",
      "- - - - - - - - - - - - - - - - - - - - - - - - - - - - - - - - - - - - - - - - - - - - Q - - - - - - - - - - - - - - -\n",
      "- - - - - - - - - - - - - - - - - - - - - - - - - - - - - - - - - - - - - - - - - - - - - - - - - - - - - - - - - - - Q\n",
      "- - - - - - - - - - - - - - - - - - - - - - - - - - - - - - - - - - - - - - - - - - - - - - - - - - - - - - - - - - Q -\n",
      "- - - - - - - - - - - - - - - - - - - - - - - - - - - - - - - - - - - - - - - - - - - Q - - - - - - - - - - - - - - - -\n",
      "- - - - - - - - - - - - - - Q - - - - - - - - - - - - - - - - - - - - - - - - - - - - - - - - - - - - - - - - - - - - -\n",
      "- - - - - - - - - - - - - - Q - - - - - - - - - - - - - - - - - - - - - - - - - - - - - - - - - - - - - - - - - - - - -\n",
      "- - - - - - - - Q - - - - - - - - - - - - - - - - - - - - - - - - - - - - - - - - - - - - - - - - - - - - - - - - - - -\n",
      "- - - - - - - - - - - - - - - - - - - - - - - - - - - - - - - - - - - - - - - - Q - - - - - - - - - - - - - - - - - - -\n",
      "- - - - - - - - - - - - - - - - - - - - - - - - - - - - - - - - - - - - - - - - - - - - - - Q - - - - - - - - - - - - -\n",
      "- - - - - - - - - - - - - - - - - - - - - - - - - - - - - - - - - - - - - - - Q - - - - - - - - - - - - - - - - - - - -\n",
      "- - - - - - - - - - - - - - - - - - - - - - - - - - - - - - - - - - - - - Q - - - - - - - - - - - - - - - - - - - - - -\n",
      "- - - Q - - - - - - - - - - - - - - - - - - - - - - - - - - - - - - - - - - - - - - - - - - - - - - - - - - - - - - - -\n",
      "- - - - - - - - - - - - Q - - - - - - - - - - - - - - - - - - - - - - - - - - - - - - - - - - - - - - - - - - - - - - -\n",
      "- - Q - - - - - - - - - - - - - - - - - - - - - - - - - - - - - - - - - - - - - - - - - - - - - - - - - - - - - - - - -\n",
      "- - - - - - - - - - - - - - - - - - Q - - - - - - - - - - - - - - - - - - - - - - - - - - - - - - - - - - - - - - - - -\n",
      "- - - - - - - - - - - - - - - - - - - - - - - - - - - - - - - - - - - - - - - - - - - - - - - - - - - - Q - - - - - - -\n",
      "- - - - Q - - - - - - - - - - - - - - - - - - - - - - - - - - - - - - - - - - - - - - - - - - - - - - - - - - - - - - -\n",
      "- - - - - - - - - - - - - - - - - Q - - - - - - - - - - - - - - - - - - - - - - - - - - - - - - - - - - - - - - - - - -\n",
      "- - - - - - - - - - - - - - - - - - - - - - - - - - - - - - - Q - - - - - - - - - - - - - - - - - - - - - - - - - - - -\n",
      "- - - - - - - - - - - - - - - - - - - - - - - - - - - - - - - - - - - - - - - - - - - - - - - - - - - - - - Q - - - - -\n",
      "- - - Q - - - - - - - - - - - - - - - - - - - - - - - - - - - - - - - - - - - - - - - - - - - - - - - - - - - - - - - -\n",
      "- - - - - Q - - - - - - - - - - - - - - - - - - - - - - - - - - - - - - - - - - - - - - - - - - - - - - - - - - - - - -\n",
      "- - - - - Q - - - - - - - - - - - - - - - - - - - - - - - - - - - - - - - - - - - - - - - - - - - - - - - - - - - - - -\n",
      "- - - - - - - Q - - - - - - - - - - - - - - - - - - - - - - - - - - - - - - - - - - - - - - - - - - - - - - - - - - - -\n",
      "- - - - - - - - - - - - - - - - - - - - - - - - - - - - - - - - - - - - Q - - - - - - - - - - - - - - - - - - - - - - -\n",
      "- - - - - - - - - - - - - - - - - - Q - - - - - - - - - - - - - - - - - - - - - - - - - - - - - - - - - - - - - - - - -\n",
      "- Q - - - - - - - - - - - - - - - - - - - - - - - - - - - - - - - - - - - - - - - - - - - - - - - - - - - - - - - - - -\n",
      "- - - - - - - - - - - - - - - - - - - - - - - - - - - - Q - - - - - - - - - - - - - - - - - - - - - - - - - - - - - - -\n",
      "- - - - - - - - - - - - - - - - - - - - - - - - - - - - - - - - - - - - - - - - - - - - - - - - - - - Q - - - - - - - -\n",
      "- - - - - - - - - - - - - - - - - - - - - - - - - - - - - - - - - - - - - - - - - Q - - - - - - - - - - - - - - - - - -\n",
      "Best Fitness score: 1.0\n",
      "Execution Time: 12.908284664154053 seconds\n"
     ]
    }
   ],
   "source": [
    "population_size = 10000\n",
    "board_size = 60\n",
    "mutation_rate = 0.1\n",
    "\n",
    "start_time = time.time()\n",
    "solve_n_queen(population_size, board_size, mutation_rate)\n",
    "end_time = time.time()\n",
    "\n",
    "execution_time = end_time - start_time\n",
    "\n",
    "print(\"Execution Time:\", execution_time, \"seconds\")"
   ]
  }
 ],
 "metadata": {
  "kernelspec": {
   "display_name": "Python 3 (ipykernel)",
   "language": "python",
   "name": "python3"
  },
  "language_info": {
   "codemirror_mode": {
    "name": "ipython",
    "version": 3
   },
   "file_extension": ".py",
   "mimetype": "text/x-python",
   "name": "python",
   "nbconvert_exporter": "python",
   "pygments_lexer": "ipython3",
   "version": "3.9.0"
  }
 },
 "nbformat": 4,
 "nbformat_minor": 5
}
